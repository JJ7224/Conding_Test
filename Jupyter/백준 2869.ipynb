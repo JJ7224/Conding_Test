{
 "cells": [
  {
   "cell_type": "code",
   "execution_count": null,
   "id": "f5cb3cc8",
   "metadata": {},
   "outputs": [],
   "source": [
    "# 백준 2869 - 달팽이는 올라가고 싶다\n",
    "\n",
    "# 내가 한 것(답은 맞음, 시간에러)\n",
    "a, b, v = map(int, input().split(' '))\n",
    "day = 0\n",
    "i = 0\n",
    "\n",
    "while(i < v):\n",
    "    i = day + a - b\n",
    "    if i < v:\n",
    "        day += 1\n",
    "    elif i >= v:\n",
    "        print(day)\n",
    "        break\n",
    "        \n",
    "print('-----------------------------------------')        \n",
    "\n",
    "# 문제 풀이\n",
    "a, b, v = map(int, input().split(' '))\n",
    "day = 0\n",
    "\n",
    "# 하루에 떨어졌다 올라오는 높이\n",
    "d = a - b\n",
    "\n",
    "# 마지막 날에 도착하면 되는 높이\n",
    "p = v - b\n",
    "\n",
    "# p까지 도달하는데 걸리는 날짜\n",
    "day = p // d\n",
    "\n",
    "if p % d > 0:\n",
    "    day += 1\n",
    "    \n",
    "print(day)"
   ]
  }
 ],
 "metadata": {
  "kernelspec": {
   "display_name": "Python 3",
   "language": "python",
   "name": "python3"
  },
  "language_info": {
   "codemirror_mode": {
    "name": "ipython",
    "version": 3
   },
   "file_extension": ".py",
   "mimetype": "text/x-python",
   "name": "python",
   "nbconvert_exporter": "python",
   "pygments_lexer": "ipython3",
   "version": "3.8.8"
  }
 },
 "nbformat": 4,
 "nbformat_minor": 5
}
